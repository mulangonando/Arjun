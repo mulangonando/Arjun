{
 "cells": [
  {
   "cell_type": "code",
   "execution_count": 1,
   "metadata": {},
   "outputs": [],
   "source": [
    "from datetime import datetime\n",
    "from elasticsearch import Elasticsearch"
   ]
  },
  {
   "cell_type": "code",
   "execution_count": 2,
   "metadata": {},
   "outputs": [],
   "source": [
    "#host settings\n",
    "es = Elasticsearch('http://eis-warpcore-01:49200/')\n",
    "docType = \"doc\"\n",
    "indexName = \"wikiindex\""
   ]
  },
  {
   "cell_type": "code",
   "execution_count": 3,
   "metadata": {},
   "outputs": [
    {
     "data": {
      "text/plain": [
       "{'_shards': {'failed': 0, 'skipped': 0, 'successful': 5, 'total': 5},\n",
       " 'count': 6526329}"
      ]
     },
     "execution_count": 3,
     "metadata": {},
     "output_type": "execute_result"
    }
   ],
   "source": [
    "es.count()"
   ]
  },
  {
   "cell_type": "code",
   "execution_count": 4,
   "metadata": {},
   "outputs": [
    {
     "name": "stdout",
     "output_type": "stream",
     "text": [
      "{'total': 6526329, 'hits': [{'_source': {'label': '[Impact of neoadjuvant hormonal therapy on the permanent \\\\u00B9\\\\u00B2\\\\u2075I-seed brachytherapy for localized high-risk prostate cancer].', 'knownAs': ''}, '_score': 1.0, '_id': 'oneoV2cBTRpO6fN9VGLE', '_type': 'doc', '_index': 'wikiindex'}, {'_source': {'label': 'Antioxidant activity and polyphenol content in edible wild fruits from Nepal.', 'knownAs': ''}, '_score': 1.0, '_id': 'lXeoV2cBTRpO6fN9VGKr', '_type': 'doc', '_index': 'wikiindex'}, {'_source': {'label': 'Cancer-preventing attributes of probiotics: an update.', 'knownAs': ''}, '_score': 1.0, '_id': 'iXeoV2cBTRpO6fN9VGKb', '_type': 'doc', '_index': 'wikiindex'}, {'_source': {'label': 'Template:Endflatlist', 'knownAs': ''}, '_score': 1.0, '_id': 'ZneoV2cBTRpO6fN9VGJR', '_type': 'doc', '_index': 'wikiindex'}, {'_source': {'label': 'Long Mountain (Jamaica)', 'knownAs': ''}, '_score': 1.0, '_id': 'TXeoV2cBTRpO6fN9VGIj', '_type': 'doc', '_index': 'wikiindex'}, {'_source': {'label': 'Hearing loss on social media: Who is winning hearts and minds?', 'knownAs': ''}, '_score': 1.0, '_id': 'QneoV2cBTRpO6fN9VGIK', '_type': 'doc', '_index': 'wikiindex'}, {'_source': {'label': 'Dietary patterns and risk of oesophageal squamous cell carcinoma: a case-control study.', 'knownAs': ''}, '_score': 1.0, '_id': 'QXeoV2cBTRpO6fN9VGIK', '_type': 'doc', '_index': 'wikiindex'}, {'_source': {'label': '[A case of rectal carcinoid with multiple liver, lymph nodes and bone metastases that responded to an octreotide therapy].', 'knownAs': ''}, '_score': 1.0, '_id': 'PneoV2cBTRpO6fN9VGII', '_type': 'doc', '_index': 'wikiindex'}, {'_source': {'label': 'Pharmocokinetics and pharmacodynamics of single-dose triazolam: electroencephalography compared with the Digit-Symbol Substitution Test', 'knownAs': ''}, '_score': 1.0, '_id': 'NneoV2cBTRpO6fN9U2Lo', '_type': 'doc', '_index': 'wikiindex'}, {'_source': {'label': 'Guzmania candelabrum', 'knownAs': ''}, '_score': 1.0, '_id': 'LneoV2cBTRpO6fN9U2LO', '_type': 'doc', '_index': 'wikiindex'}], 'max_score': 1.0}\n"
     ]
    }
   ],
   "source": [
    "res = es.search(index=indexName, doc_type=docType)\n",
    "print(res['hits'])"
   ]
  },
  {
   "cell_type": "code",
   "execution_count": null,
   "metadata": {},
   "outputs": [],
   "source": [
    "def entitySearch(query):\n",
    "    results=[]\n",
    "    ###################################################\n",
    "    elasticResults=es.search(index=indexName, doc_type=docType, body={\n",
    "              \"query\": {\n",
    "                \"prefix\" : { \"uri\" : \"http://dbpedia.org/resource/\"+query.capitalize().replace(\" \", \"_\") } \n",
    "              }\n",
    "               ,\"size\":5\n",
    "    }\n",
    "           )\n",
    "    for result in elasticResults['hits']['hits']:\n",
    "        if result[\"_source\"][\"uri\"].lower()==\"http://dbpedia.org/resource/\"+query.replace(\" \", \"_\").lower():\n",
    "            results.append([result[\"_source\"][\"label\"],result[\"_source\"][\"uri\"],result[\"_score\"]*10,40])\n",
    "        else:\n",
    "            results.append([result[\"_source\"][\"label\"],result[\"_source\"][\"uri\"],result[\"_score\"]*10,0])\n",
    "        ###################################################\n",
    "    elasticResults=es.search(index=indexName, doc_type=docType, body={\n",
    "              \"query\": {\n",
    "                \"match\" : { \"uri\" : \"http://dbpedia.org/resource/\"+query.capitalize().replace(\" \", \"_\") } \n",
    "              }\n",
    "               ,\"size\":5\n",
    "    }\n",
    "           )\n",
    "    for result in elasticResults['hits']['hits']:\n",
    "        if result[\"_source\"][\"uri\"].lower()==\"http://dbpedia.org/resource/\"+query.replace(\" \", \"_\").lower():\n",
    "            results.append([result[\"_source\"][\"label\"],result[\"_source\"][\"uri\"],result[\"_score\"]*20,40])\n",
    "        else:\n",
    "            results.append([result[\"_source\"][\"label\"],result[\"_source\"][\"uri\"],result[\"_score\"]*20,0])\n",
    "        ###################################################\n",
    "    elasticResults=es.search(index=indexName, doc_type=docType, body={\n",
    "              \"query\": {\n",
    "                \"match\" : { \"label\" : query } \n",
    "              }\n",
    "               ,\"size\":10\n",
    "    }\n",
    "           )\n",
    "    for result in elasticResults['hits']['hits']:\n",
    "        if result[\"_source\"][\"uri\"].lower()==\"http://dbpedia.org/resource/\"+query.replace(\" \", \"_\").lower():\n",
    "            results.append([result[\"_source\"][\"label\"],result[\"_source\"][\"uri\"],result[\"_score\"]*40,40])\n",
    "        else:\n",
    "            results.append([result[\"_source\"][\"label\"],result[\"_source\"][\"uri\"],result[\"_score\"]*40,0])\n",
    "    ###################################################\n",
    "    elasticResults=es.search(index=indexName, doc_type=docType, body={\n",
    "              \"query\": {\n",
    "                \"fuzzy\" : { \"label\" : query  } \n",
    "              }\n",
    "               ,\"size\":5\n",
    "    }\n",
    "           )\n",
    "    for result in elasticResults['hits']['hits']:\n",
    "        if result[\"_source\"][\"uri\"].lower()==\"http://dbpedia.org/resource/\"+query.replace(\" \", \"_\").lower():\n",
    "            results.append([result[\"_source\"][\"label\"],result[\"_source\"][\"uri\"],result[\"_score\"]*25,40])\n",
    "        else:\n",
    "            results.append([result[\"_source\"][\"label\"],result[\"_source\"][\"uri\"],result[\"_score\"]*25,0])\n",
    "    return results\n",
    "    #for result in results['hits']['hits']:\n",
    "        #print (result[\"_score\"])\n",
    "        #print (result[\"_source\"])\n",
    "        #print(\"-----------\")"
   ]
  },
  {
   "cell_type": "code",
   "execution_count": 5,
   "metadata": {},
   "outputs": [
    {
     "data": {
      "text/plain": [
       "{'_shards': {'failed': 0, 'successful': 5, 'total': 10}}"
      ]
     },
     "execution_count": 5,
     "metadata": {},
     "output_type": "execute_result"
    }
   ],
   "source": [
    "es.indices.refresh(index=indexName)"
   ]
  },
  {
   "cell_type": "code",
   "execution_count": 9,
   "metadata": {},
   "outputs": [
    {
     "name": "stdout",
     "output_type": "stream",
     "text": [
      "Got 6526329 Hits:\n",
      "[Impact of neoadjuvant hormonal therapy on the permanent \\u00B9\\u00B2\\u2075I-seed brachytherapy for localized high-risk prostate cancer]. \n",
      "Antioxidant activity and polyphenol content in edible wild fruits from Nepal. \n",
      "Cancer-preventing attributes of probiotics: an update. \n",
      "Template:Endflatlist \n",
      "Long Mountain (Jamaica) \n",
      "Hearing loss on social media: Who is winning hearts and minds? \n",
      "Dietary patterns and risk of oesophageal squamous cell carcinoma: a case-control study. \n",
      "[A case of rectal carcinoid with multiple liver, lymph nodes and bone metastases that responded to an octreotide therapy]. \n",
      "Pharmocokinetics and pharmacodynamics of single-dose triazolam: electroencephalography compared with the Digit-Symbol Substitution Test \n",
      "Guzmania candelabrum \n"
     ]
    }
   ],
   "source": [
    "res = es.search(index=indexName, body={\"query\": {\"match_all\": {}}})\n",
    "print(\"Got %d Hits:\" % res['hits']['total'])\n",
    "for hit in res['hits']['hits']:\n",
    "    print(\"%(label)s %(knownAs)s\" % hit[\"_source\"])"
   ]
  },
  {
   "cell_type": "code",
   "execution_count": 16,
   "metadata": {},
   "outputs": [
    {
     "name": "stdout",
     "output_type": "stream",
     "text": [
      "Got 2009675 Hits:\n",
      "United States of America USA\n",
      "United States of America the United States\n",
      "United States of America US\n",
      "United States of America U.S.\n",
      "United States of America US\n",
      "United States of America America\n",
      "United States of America America\n",
      "United States of America US\n",
      "United States of America the States\n",
      "United Steelworkers of America v. United States \n",
      "Category:Rocky Mountains (United States of America) \n",
      "Brimrose Corporation of America (United States) \n",
      "Australian Legation, United States of America \n",
      "United States\\u2013Central America Treaty \n",
      "Category:Languages of the United States of America \n",
      "Music of the United States of America \n",
      "United States of America v. Jane Kember \n",
      "United States of America v. Sufyian Barhoumi \n",
      "United States of America: health system review \n",
      "Ellis v. United States of America (1969) \n",
      "1990 UNITED STATES OF AMERICA FARM BILL \n",
      "Microsoft Corporation v. United States of America \n",
      "Our surgical heritage. United States of America. \n",
      "United States of America v Kent Hovind \n",
      "Apostolic Exarchate of the United States of America \n",
      "The Presidents of the United States of America The Presidents\n",
      "Category:Reform Party of the United States of America \n",
      "United States of America (Global Open Access Portal) USA (GOAP)\n",
      "United States of America v. Mohammed Abdullah Warsame \n",
      "Lutheran Council in the United States of America \n",
      "open access in the United States of America OA in US\n",
      "The United States of America and scientific research \n",
      "United States of America (Global Open Access Portal) GOAP: USA\n",
      "open access in the United States of America OA in the US\n",
      "Medical education in the United States of America. \n",
      "Drug dependence in the United States of America \n",
      "The United States experience: injury in America. \n",
      "The Penguin History of the United States of America \n",
      "The Physical Economy of the United States of America \n",
      "Gift Duty Convention (United States of America) Act 1953 \n",
      "Critical area planting in the United States of America \n",
      "Health human resources in the United States of America. \n",
      "Category:Presbyterian Church in the United States of America ministers \n",
      "Obstetric medical care in the United States of America. \n",
      "Marconi Wireless Telegraph Company of America v. United States \n",
      "list of defunct airlines of the United States Of America \n",
      "[Epidemiological surveillance of measles in the United States of America] \n",
      "Hotspots of canine leptospirosis in the United States of America. \n",
      "Current dilemma of medical education in United States of America. \n",
      "Category:The Presidents of the United States of America (band) albums \n",
      "Category:The Presidents of the United States of America (band) songs \n",
      "United States of America at the 2009 World Rowing Championships \n",
      "[Anti-varicella vaccination program in the United States of America] \n",
      "Template:Confederate States of America \n",
      "United States of America v. Jabran Said Bin Al Qahtani \n",
      "United Shades of America \n",
      "Confederate States of America CS\n",
      "Confederate States of America the rebellious States\n",
      "Economic aspects of rural sanitation in the United States of America. \n",
      "Contributions to the natural history of the United States of America \n",
      "United States of America v. Terminal Railroad Association of St. Louis \n",
      "Do we have real poverty in the United States of America? \n",
      "Korean nurses' adjustment to hospitals in the United States of America. \n",
      "Periodic Report of the United States of America to the United Nations Committee Against Torture \n",
      "United States of America vs. Philip Morris USA Inc. et al. \n",
      "Moore v. United States of America ex rel Newcomb Motor Company \n",
      "Discharge patterns after radical prostatectomy in the United States of America. \n",
      "Pharmaceutical education in the United States of America--professional and graduate. \n",
      "Province 3 of the Episcopal Church in the United States of America \n",
      "General Convention of the Episcopal Church in the United States of America \n",
      "United States \n",
      "Province 1 of the Episcopal Church in the United States of America \n",
      "Federal regulation of experimental animal use in the United States of America. \n",
      "Ethnic variation of gastroschisis and omphalocele in the United States of America. \n",
      "United States. \n",
      "UNITED STATES \n",
      "Province 8 of the Episcopal Church in the United States of America \n",
      "United Hatters of North America \n",
      "United Federal Workers of America \n",
      "United Biomedical (United States) UBI\n",
      "Proceedings of the National Academy of Sciences of the United States of America PNAS\n",
      "Proceedings of the National Academy of Sciences of the United States of America Proc. Natl. Acad. Sci. U.S.A.\n",
      "United States Cartridge Co v. United States \n",
      "Presidents of the United States on the United States \n",
      "Clinical Microscopy at Johns Hopkins Medical School, Baltimore, United States of America. \n",
      "list of bishops of the Episcopal Church in the United States of America \n",
      "Some personal observations on industrial health in the United States of America \n",
      "Zika in the United States of America and a Fateful 1969 Decision \n",
      "Category:Fictional states of the United States \n",
      "A review of the concerned parent movement in the United States of America. \n",
      "United States of Europe European superstate\n",
      "United States of Tara \n",
      "United States of Europe European state\n",
      "Refugee mathematicians in the United States of America, 1933\\u20131941: Reception and reaction \n",
      "Template:Country data Confederate States of America \n",
      "Poliovirus immunity in newly resettled adult refugees in Idaho, United States of America. \n",
      "Lymph node metastasis in early gastric adenocarcinoma in the United States of America. \n",
      "C.S.A.: The Confederate States of America \n",
      "Security Treaty (Australia, New Zealand and the United States of America) Act 1952 \n",
      "Wockhardt (United States) \n"
     ]
    }
   ],
   "source": [
    "body = {\n",
    "  \"query\": {\n",
    "    \"match\": {\n",
    "    \"label\": \"United States of America\"\n",
    "             }\n",
    "           }\n",
    ",   \"size\": 100\n",
    "}\n",
    "\n",
    "res = es.search(index=indexName, body=body)\n",
    "print(\"Got %d Hits:\" % res['hits']['total'])\n",
    "for hit in res['hits']['hits']:\n",
    "    print(\"%(label)s %(knownAs)s\" % hit[\"_source\"])"
   ]
  },
  {
   "cell_type": "code",
   "execution_count": null,
   "metadata": {},
   "outputs": [],
   "source": []
  }
 ],
 "metadata": {
  "kernelspec": {
   "display_name": "Python 3",
   "language": "python",
   "name": "python3"
  },
  "language_info": {
   "codemirror_mode": {
    "name": "ipython",
    "version": 3
   },
   "file_extension": ".py",
   "mimetype": "text/x-python",
   "name": "python",
   "nbconvert_exporter": "python",
   "pygments_lexer": "ipython3",
   "version": "3.5.2"
  }
 },
 "nbformat": 4,
 "nbformat_minor": 2
}
