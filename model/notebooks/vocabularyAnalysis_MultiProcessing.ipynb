{
 "cells": [
  {
   "cell_type": "code",
   "execution_count": 1,
   "metadata": {},
   "outputs": [],
   "source": [
    "import pandas as pd\n",
    "import numpy as np\n",
    "pd.set_option('display.max_colwidth', -1)"
   ]
  },
  {
   "cell_type": "code",
   "execution_count": 2,
   "metadata": {},
   "outputs": [],
   "source": [
    "from gensim.models import KeyedVectors\n",
    "from gensim.scripts.glove2word2vec import glove2word2vec\n",
    "glove_input_file = '../../dataset/glove.6B/glove.6B.300d.txt'\n",
    "word2vec_output_file = '../../dataset/glove.6B/glove.6B.300d.txt.word2vec'\n",
    "glove2word2vec(glove_input_file, word2vec_output_file)\n",
    "filename = '../../dataset/glove.6B/glove.6B.300d.txt.word2vec'\n",
    "model_glove = KeyedVectors.load_word2vec_format(filename, binary=False)"
   ]
  },
  {
   "cell_type": "code",
   "execution_count": 3,
   "metadata": {},
   "outputs": [
    {
     "name": "stdout",
     "output_type": "stream",
     "text": [
      "<class 'list'>\n"
     ]
    }
   ],
   "source": [
    "vocabList = list(model_glove.vocab.keys())\n",
    "print (type(vocabList))\n",
    "np.savetxt('../../dataset/vocab_glove.txt',vocabList,fmt='%s',encoding='utf-8')\n",
    "del model_glove"
   ]
  },
  {
   "cell_type": "code",
   "execution_count": 4,
   "metadata": {},
   "outputs": [],
   "source": [
    "vocabDict = {word:value for value, word in enumerate(vocabList)}\n",
    "del vocabList"
   ]
  },
  {
   "cell_type": "code",
   "execution_count": 5,
   "metadata": {},
   "outputs": [
    {
     "data": {
      "text/plain": [
       "400000"
      ]
     },
     "execution_count": 5,
     "metadata": {},
     "output_type": "execute_result"
    }
   ],
   "source": [
    "len(vocabDict)"
   ]
  },
  {
   "cell_type": "code",
   "execution_count": 6,
   "metadata": {},
   "outputs": [],
   "source": [
    "seq1Set = set()\n",
    "seq2Set = set()\n",
    "    "
   ]
  },
  {
   "cell_type": "code",
   "execution_count": 7,
   "metadata": {},
   "outputs": [
    {
     "data": {
      "text/plain": [
       "\"data = pd.read_csv('../../dataset/merged_465_entity_google_pre_seq_10_50.csv', encoding='utf-8', usecols=['sequence1'])\\nseq1 = data['sequence1'].tolist()\\nfor i, sent in enumerate(seq1):\\n    seq1Set = seq1Set.union({word for word in set(sent.split()) if word in vocabDict})\\n    if(i%100000==0):\\n        print i,len(seq1Set),\\nnp.savetxt('../../dataset/vocabData/onlyEntity/vocab_glove_10_50.seq1',list(seq1Set), fmt='%s', encoding='utf-8')\\ndel seq1\""
      ]
     },
     "execution_count": 7,
     "metadata": {},
     "output_type": "execute_result"
    }
   ],
   "source": [
    "'''data = pd.read_csv('../../dataset/merged_465_entity_google_pre_seq_10_50.csv', encoding='utf-8', usecols=['sequence1'])\n",
    "seq1 = data['sequence1'].tolist()\n",
    "for i, sent in enumerate(seq1):\n",
    "    seq1Set = seq1Set.union({word for word in set(sent.split()) if word in vocabDict})\n",
    "    if(i%100000==0):\n",
    "        print i,len(seq1Set),\n",
    "np.savetxt('../../dataset/vocabData/onlyEntity/vocab_glove_10_50.seq1',list(seq1Set), fmt='%s', encoding='utf-8')\n",
    "del seq1'''"
   ]
  },
  {
   "cell_type": "code",
   "execution_count": 8,
   "metadata": {},
   "outputs": [
    {
     "data": {
      "text/plain": [
       "\"del data\\ndata = pd.read_csv('../../dataset/merged_465_entity_google_pre_seq_10_50.csv', encoding='utf-8', usecols=['sequence2'])\\nseq2 = data['sequence2'].tolist()\\nfor i, sent in enumerate(seq2):\\n    seq2Set = seq2Set.union({word for word in set(sent.split()) if word in vocabDict})\\n    if(i%100000==0):\\n        print i,len(seq2Set),\\nnp.savetxt('../../dataset/vocabData/onlyEntity/vocab_glove_10_50.seq2',list(seq2Set), fmt='%s',encoding='utf-8')\\ndel seq2\""
      ]
     },
     "execution_count": 8,
     "metadata": {},
     "output_type": "execute_result"
    }
   ],
   "source": [
    "'''del data\n",
    "data = pd.read_csv('../../dataset/merged_465_entity_google_pre_seq_10_50.csv', encoding='utf-8', usecols=['sequence2'])\n",
    "seq2 = data['sequence2'].tolist()\n",
    "for i, sent in enumerate(seq2):\n",
    "    seq2Set = seq2Set.union({word for word in set(sent.split()) if word in vocabDict})\n",
    "    if(i%100000==0):\n",
    "        print i,len(seq2Set),\n",
    "np.savetxt('../../dataset/vocabData/onlyEntity/vocab_glove_10_50.seq2',list(seq2Set), fmt='%s',encoding='utf-8')\n",
    "del seq2'''"
   ]
  },
  {
   "cell_type": "code",
   "execution_count": 9,
   "metadata": {},
   "outputs": [],
   "source": [
    "import multiprocessing as mp\n",
    "\n",
    "    \n",
    "    "
   ]
  },
  {
   "cell_type": "code",
   "execution_count": 10,
   "metadata": {},
   "outputs": [],
   "source": [
    "chunks_seq1 = pd.read_csv('../../dataset/entityData/merged_465_entity_uri_entity_google_pre.csv', encoding='utf-8', usecols=['sequence1'], chunksize=10000)\n",
    "chunks_seq2 = pd.read_csv('../../dataset/entityData/merged_465_entity_uri_entity_google_pre.csv', encoding='utf-8', usecols=['uriSequence2'], chunksize=10000)\n"
   ]
  },
  {
   "cell_type": "code",
   "execution_count": 11,
   "metadata": {},
   "outputs": [],
   "source": [
    "def findVocabSeq1(chunk):\n",
    "    seqs = chunk['sequence1'].tolist()\n",
    "    vocabset=[]\n",
    "    try:\n",
    "        vocabset = set([word for seq in seqs for word in set(seq.split()) if word in vocabDict])\n",
    "    except:\n",
    "        pass\n",
    "    return vocabset\n",
    "\n",
    "def findVocabSeq2(chunk):\n",
    "    seqs = chunk['uriSequence2'].tolist()\n",
    "    vocabset=[]\n",
    "    try:\n",
    "        vocabset = set([word for seq in seqs for word in set(seq.split()) if word in vocabDict])\n",
    "    except:\n",
    "        pass\n",
    "    return vocabset"
   ]
  },
  {
   "cell_type": "code",
   "execution_count": 12,
   "metadata": {},
   "outputs": [],
   "source": [
    "n_pool = mp.cpu_count()\n",
    "pools = mp.Pool(28)"
   ]
  },
  {
   "cell_type": "code",
   "execution_count": 13,
   "metadata": {},
   "outputs": [],
   "source": [
    "for vocabset in pools.map(findVocabSeq1,chunks_seq1):\n",
    "    seq1Set = seq1Set.union(vocabset)\n",
    "\n",
    "np.savetxt('../../dataset/vocabData/onlyEntity/vocab_entity_uriEntity_glove.seq1',list(seq1Set), fmt='%s', encoding='utf-8')\n"
   ]
  },
  {
   "cell_type": "code",
   "execution_count": 14,
   "metadata": {},
   "outputs": [],
   "source": [
    "for vocabset in pools.map(findVocabSeq2,chunks_seq2):\n",
    "    seq2Set = seq2Set.union(vocabset)\n",
    "\n",
    "np.savetxt('../../dataset/vocabData/onlyEntity/vocab_entity_uriEntity_glove_.seq2',list(seq2Set), fmt='%s', encoding='utf-8')\n"
   ]
  },
  {
   "cell_type": "code",
   "execution_count": 15,
   "metadata": {},
   "outputs": [
    {
     "data": {
      "text/plain": [
       "(313725, 134354)"
      ]
     },
     "execution_count": 15,
     "metadata": {},
     "output_type": "execute_result"
    }
   ],
   "source": [
    "len(seq1Set), len(seq2Set)"
   ]
  },
  {
   "cell_type": "code",
   "execution_count": 16,
   "metadata": {},
   "outputs": [],
   "source": [
    "pools.close()\n",
    "pools.join()"
   ]
  },
  {
   "cell_type": "code",
   "execution_count": 17,
   "metadata": {},
   "outputs": [],
   "source": [
    "seq3Set = seq1Set.union(seq2Set)\n",
    "np.savetxt('../../dataset/vocabData/onlyEntity/vocab_entity_uriEntity_glove_.seq2seq1',list(seq2Set), fmt='%s', encoding='utf-8')"
   ]
  },
  {
   "cell_type": "code",
   "execution_count": 18,
   "metadata": {},
   "outputs": [
    {
     "data": {
      "text/plain": [
       "313730"
      ]
     },
     "execution_count": 18,
     "metadata": {},
     "output_type": "execute_result"
    }
   ],
   "source": [
    "len(seq2Set)"
   ]
  },
  {
   "cell_type": "code",
   "execution_count": null,
   "metadata": {},
   "outputs": [],
   "source": []
  }
 ],
 "metadata": {
  "kernelspec": {
   "display_name": "Python 3",
   "language": "python",
   "name": "python3"
  },
  "language_info": {
   "codemirror_mode": {
    "name": "ipython",
    "version": 2
   },
   "file_extension": ".py",
   "mimetype": "text/x-python",
   "name": "python",
   "nbconvert_exporter": "python",
   "pygments_lexer": "ipython2",
   "version": "2.7.12"
  }
 },
 "nbformat": 4,
 "nbformat_minor": 2
}
