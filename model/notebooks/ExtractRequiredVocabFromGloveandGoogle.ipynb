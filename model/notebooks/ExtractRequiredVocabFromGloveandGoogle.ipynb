{
 "cells": [
  {
   "cell_type": "code",
   "execution_count": 1,
   "metadata": {},
   "outputs": [],
   "source": [
    "import numpy as np"
   ]
  },
  {
   "cell_type": "code",
   "execution_count": 2,
   "metadata": {},
   "outputs": [
    {
     "name": "stdout",
     "output_type": "stream",
     "text": [
      "262301\n",
      "['nunnery' 'clottey' 'gavar' 'sowell' 'fleeces']\n",
      "400000\n"
     ]
    }
   ],
   "source": [
    "st = 'entity_glove_300d_0_50'\n",
    "vc = 'entity_glove_0_50'\n",
    "outFile1 = open('../../dataset/vocabData/onlyEntity/'+st+'.seq1','w')\n",
    "outVocab = open('../../dataset/vocabData/onlyEntity/vocab_'+st+'.seq1','w')\n",
    "\n",
    "vocabList = np.loadtxt('../../dataset/vocabData/onlyEntity/vocab_'+vc+'.seq1',dtype=np.str, encoding='utf-8')\n",
    "\n",
    "vocabDict = {word:value for value, word in enumerate(vocabList)}\n",
    "\n",
    "print len(vocabDict)\n",
    "print (vocabList[5:10])\n",
    "\n",
    "del vocabList\n",
    "\n",
    "with open('../../dataset/glove.6B/glove.6B.300d.txt', 'rb') as file:\n",
    "    lines = file.readlines()\n",
    "    print len(lines)\n",
    "    for line in lines:\n",
    "        line_token = line.split()\n",
    "        if line_token[0] in vocabDict:\n",
    "            outFile1.write(line)\n",
    "            outVocab.write(line_token[0]+'\\n')\n",
    "            \n",
    "        else:\n",
    "            pass\n",
    "            #print line_token[0],\n",
    "outFile1.close()\n",
    "outVocab.close()\n",
    "del vocabDict"
   ]
  },
  {
   "cell_type": "code",
   "execution_count": 3,
   "metadata": {},
   "outputs": [
    {
     "name": "stdout",
     "output_type": "stream",
     "text": [
      "178586\n",
      "400000\n"
     ]
    }
   ],
   "source": [
    "outFile2 = open('../../dataset/vocabData/onlyEntity/'+st+'.seq2','w')\n",
    "outVocab2 = open('../../dataset/vocabData/onlyEntity/vocab_'+st+'.seq2','w')\n",
    "\n",
    "vocabList = np.loadtxt('../../dataset/vocabData/onlyEntity/vocab_'+vc+'.seq2',dtype=np.str, encoding='utf-8')\n",
    "\n",
    "vocabDict = {word:value for value, word in enumerate(vocabList)}\n",
    "\n",
    "print len(vocabDict)\n",
    "\n",
    "del vocabList\n",
    "with open('../../dataset/glove.6B/glove.6B.300d.txt', 'rb') as file:\n",
    "    lines = file.readlines()\n",
    "    print len(lines)\n",
    "    i = 0\n",
    "    for line in lines:\n",
    "        line_token = line.split()\n",
    "        if line_token[0] in vocabDict:\n",
    "            outFile2.write(line)\n",
    "            outVocab2.write(line_token[0]+'\\n')\n",
    "        else:\n",
    "            pass\n",
    "            #print line_token[0],\n",
    "\n",
    "outFile2.close()\n",
    "outVocab2.close()\n",
    "del vocabDict"
   ]
  },
  {
   "cell_type": "code",
   "execution_count": null,
   "metadata": {},
   "outputs": [],
   "source": []
  },
  {
   "cell_type": "code",
   "execution_count": null,
   "metadata": {},
   "outputs": [],
   "source": []
  },
  {
   "cell_type": "code",
   "execution_count": null,
   "metadata": {},
   "outputs": [],
   "source": []
  },
  {
   "cell_type": "code",
   "execution_count": null,
   "metadata": {},
   "outputs": [],
   "source": []
  },
  {
   "cell_type": "code",
   "execution_count": null,
   "metadata": {},
   "outputs": [],
   "source": []
  },
  {
   "cell_type": "code",
   "execution_count": null,
   "metadata": {},
   "outputs": [],
   "source": []
  },
  {
   "cell_type": "code",
   "execution_count": null,
   "metadata": {},
   "outputs": [],
   "source": []
  }
 ],
 "metadata": {
  "kernelspec": {
   "display_name": "Python 2",
   "language": "python",
   "name": "python2"
  },
  "language_info": {
   "codemirror_mode": {
    "name": "ipython",
    "version": 2
   },
   "file_extension": ".py",
   "mimetype": "text/x-python",
   "name": "python",
   "nbconvert_exporter": "python",
   "pygments_lexer": "ipython2",
   "version": "2.7.12"
  }
 },
 "nbformat": 4,
 "nbformat_minor": 2
}
