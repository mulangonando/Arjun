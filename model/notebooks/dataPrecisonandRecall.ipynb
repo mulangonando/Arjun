{
 "cells": [
  {
   "cell_type": "code",
   "execution_count": null,
   "metadata": {},
   "outputs": [],
   "source": [
    "import pandas as pd\n",
    "pd.set_option('display.max_colwidth', -1)"
   ]
  },
  {
   "cell_type": "code",
   "execution_count": null,
   "metadata": {},
   "outputs": [],
   "source": [
    "df = pd.read_csv('../../dataset/trainingData/Dec11_sur_sep/save/7predicted.csv', header=None)\n",
    "df1 = df.iloc[786453:]\n",
    "SEP = ' surfaceformseparation'\n",
    "#df = pd.read_csv('../../dataset/trainingData/Dec11_sep/save/7predicted.csv', header=None)\n",
    "#df1 = df\n",
    "#SEP = ' wikidataentityseparation'\n",
    "df1.info()"
   ]
  },
  {
   "cell_type": "code",
   "execution_count": null,
   "metadata": {},
   "outputs": [],
   "source": [
    "df1.head() #data,pred, tar, wiki, qvalue\n",
    "df1.columns = ['org','pred','tar','wiki','uri']\n",
    "df1.head()"
   ]
  },
  {
   "cell_type": "code",
   "execution_count": null,
   "metadata": {},
   "outputs": [],
   "source": [
    "df = pd.read_csv('../../dataset/entityData/WikidataLabel_clean_noise.csv')\n",
    "d = dict(zip(df['qValue'], df['wikidataLabel']))"
   ]
  },
  {
   "cell_type": "code",
   "execution_count": null,
   "metadata": {},
   "outputs": [],
   "source": [
    "def matchedQvalue(pred):\n",
    "    p = ''\n",
    "    try:\n",
    "        l1 = pred[1].split(SEP)\n",
    "        #print (l1,l2)\n",
    "        try:\n",
    "            l1.remove('')\n",
    "        except:\n",
    "            pass\n",
    "        l1 = [i.strip() for i in l1]\n",
    "        l = [df[df['wikidataLabel']==i]['qValue'].tolist() if True in (df['wikidataLabel']==i).tolist() else 'NotFound' for i in l1]\n",
    "        p = ' '.join([i for x in l for i in x])\n",
    "    except:\n",
    "        pass\n",
    "    return p\n",
    "    \n",
    "    "
   ]
  },
  {
   "cell_type": "code",
   "execution_count": null,
   "metadata": {},
   "outputs": [],
   "source": [
    "%time\n",
    "df2 = df1\n",
    "df2.loc[:,'preUri'] =    df2.apply(matchedQvalue, axis=1)"
   ]
  },
  {
   "cell_type": "code",
   "execution_count": null,
   "metadata": {},
   "outputs": [],
   "source": [
    "df2.head(10)"
   ]
  },
  {
   "cell_type": "code",
   "execution_count": null,
   "metadata": {},
   "outputs": [],
   "source": [
    "def calculatePrecision(values):\n",
    "    p = None\n",
    "    try:\n",
    "        l1 = values[1].split(SEP)\n",
    "        l2 = values[2].split(SEP)\n",
    "        #print (l1,l2)\n",
    "        try:\n",
    "            l1.remove('')\n",
    "            l2.remove('')\n",
    "        except:\n",
    "            pass\n",
    "        l1 = [i.strip() for i in l1]\n",
    "        l2 = [i.strip() for i in l2]\n",
    "        #print (l1,l2)\n",
    "        #l1= values[0]\n",
    "        #l2 = values[1]\n",
    "        t = len(l1)\n",
    "        s = len([l2.remove(i) for i in l1 if i in l2])\n",
    "        #print (s,t)\n",
    "        p=float(s)/t\n",
    "    except:\n",
    "        pass\n",
    "    return p\n",
    "    \n",
    "\n",
    "def calculateRecall(values):\n",
    "    r = None\n",
    "    try:\n",
    "        l1 = values[1].split(SEP)\n",
    "        l2 = values[2].split(SEP)\n",
    "        #print (l1,l2)\n",
    "        try:\n",
    "            l1.remove('')\n",
    "            l2.remove('')\n",
    "        except:\n",
    "            pass\n",
    "        l1 = [i.strip() for i in l1]\n",
    "        l2 = [i.strip() for i in l2]\n",
    "        #print (l1,l2)\n",
    "        #l1= values[0]\n",
    "        #l2 = values[1]\n",
    "        t = len(l2)\n",
    "        s = len([l2.remove(i) for i in l1 if i in l2])\n",
    "        #print (s,t)\n",
    "        r= float(s)/t\n",
    "    except:\n",
    "        pass\n",
    "    return r\n",
    "    \n",
    "#print (calculatePrecision(([2,2,3,5,8,6,2],[2,2,3,5,8,2,2]))) #p =5/7\n",
    "#print (calculateRecall(([2,2,3,5,8,6,2],[2,2,3,5,8,2,2]))) #   r = "
   ]
  },
  {
   "cell_type": "code",
   "execution_count": null,
   "metadata": {},
   "outputs": [],
   "source": []
  },
  {
   "cell_type": "code",
   "execution_count": null,
   "metadata": {},
   "outputs": [],
   "source": [
    "df1.loc[:,'precision'] =    df1.apply(calculatePrecision,axis=1)\n",
    "df1.loc[:,'recall'] =       df1.apply(calculateRecall,axis=1)\n",
    "df1.head(10)"
   ]
  },
  {
   "cell_type": "code",
   "execution_count": null,
   "metadata": {},
   "outputs": [],
   "source": [
    "metric = df1.mean(axis=0, numeric_only=float)\n",
    "metric"
   ]
  },
  {
   "cell_type": "code",
   "execution_count": null,
   "metadata": {},
   "outputs": [],
   "source": [
    "d = pd.read_csv('../../dataset/trainingData/Dec11_sep/formatted_seq_0_25.txt', sep='\\t')"
   ]
  },
  {
   "cell_type": "code",
   "execution_count": null,
   "metadata": {},
   "outputs": [],
   "source": [
    "d.head(5)"
   ]
  },
  {
   "cell_type": "code",
   "execution_count": null,
   "metadata": {},
   "outputs": [],
   "source": [
    "df1.info()"
   ]
  },
  {
   "cell_type": "code",
   "execution_count": null,
   "metadata": {},
   "outputs": [],
   "source": [
    "#Baseline\n",
    "#precision    0.664095\n",
    "#recall       0.662651\n",
    "\n",
    "#Surface\n",
    "#precision    0.774095\n",
    "#recall       0.772651\n",
    "\n",
    "#Context\n",
    "\n",
    "#precision    0.714095\n",
    "#recall       0.712651"
   ]
  },
  {
   "cell_type": "code",
   "execution_count": null,
   "metadata": {},
   "outputs": [],
   "source": [
    "import numpy as np"
   ]
  },
  {
   "cell_type": "code",
   "execution_count": null,
   "metadata": {},
   "outputs": [],
   "source": [
    "rec = np.mean(df1['recall'])"
   ]
  },
  {
   "cell_type": "code",
   "execution_count": null,
   "metadata": {},
   "outputs": [],
   "source": []
  },
  {
   "cell_type": "code",
   "execution_count": null,
   "metadata": {},
   "outputs": [],
   "source": []
  },
  {
   "cell_type": "code",
   "execution_count": null,
   "metadata": {},
   "outputs": [],
   "source": []
  },
  {
   "cell_type": "code",
   "execution_count": null,
   "metadata": {},
   "outputs": [],
   "source": []
  },
  {
   "cell_type": "code",
   "execution_count": null,
   "metadata": {},
   "outputs": [],
   "source": []
  }
 ],
 "metadata": {
  "kernelspec": {
   "display_name": "Python 3",
   "language": "python",
   "name": "python3"
  },
  "language_info": {
   "codemirror_mode": {
    "name": "ipython",
    "version": 2
   },
   "file_extension": ".py",
   "mimetype": "text/x-python",
   "name": "python",
   "nbconvert_exporter": "python",
   "pygments_lexer": "ipython2",
   "version": "2.7.12"
  }
 },
 "nbformat": 4,
 "nbformat_minor": 2
}
