{
 "cells": [
  {
   "cell_type": "code",
   "execution_count": null,
   "metadata": {},
   "outputs": [],
   "source": [
    "import pandas as pd\n",
    "import numpy as np\n",
    "pd.set_option('display.max_colwidth', -1)"
   ]
  },
  {
   "cell_type": "code",
   "execution_count": null,
   "metadata": {},
   "outputs": [],
   "source": []
  },
  {
   "cell_type": "code",
   "execution_count": null,
   "metadata": {},
   "outputs": [],
   "source": [
    "data = pd.read_csv('../../dataset/entityData_Sep/merged_465_entity_uri_entity_sep_google_pre.csv',encoding='utf-8', dtype=str)\n",
    "data.info()"
   ]
  },
  {
   "cell_type": "code",
   "execution_count": null,
   "metadata": {},
   "outputs": [],
   "source": [
    "data.head(10)"
   ]
  },
  {
   "cell_type": "code",
   "execution_count": null,
   "metadata": {},
   "outputs": [],
   "source": [
    "def calculateSentLength(sent):\n",
    "    sent_tokens = str(sent.encode('utf-8')).split()\n",
    "    return len(sent_tokens)\n",
    "   \n",
    "def calculateSentLengthUri(sent):\n",
    "    sent = sent.replace('wikidataentityseparation ', '')\n",
    "    sent_tokens = str(sent.encode('utf-8')).split()\n",
    "    return len(sent_tokens)\n",
    "\n",
    "def calculateSentLength1(sentsplit):\n",
    "    return len(sentsplit)"
   ]
  },
  {
   "cell_type": "code",
   "execution_count": null,
   "metadata": {},
   "outputs": [],
   "source": [
    "data = data.dropna(subset=['sequence1','sequence2','uriSequence2'])\n",
    "data.info()"
   ]
  },
  {
   "cell_type": "code",
   "execution_count": null,
   "metadata": {},
   "outputs": [],
   "source": [
    "#data['seq1len'] = data['sequence1'].apply(lambda sent:calculateSentLength(sent))\n",
    "data['seq1len'] = data['sequence1'].str.split().apply(lambda sent:calculateSentLength1(sent))"
   ]
  },
  {
   "cell_type": "code",
   "execution_count": null,
   "metadata": {},
   "outputs": [],
   "source": [
    "#data['seq2len'] = data['sequence2'].apply(lambda sent:calculateSentLength1(sent))\n",
    "data['seq2len'] = data['sequence2'].str.split().apply(lambda sent:calculateSentLength1(sent))"
   ]
  },
  {
   "cell_type": "code",
   "execution_count": null,
   "metadata": {},
   "outputs": [],
   "source": [
    "data.head(5)"
   ]
  },
  {
   "cell_type": "code",
   "execution_count": null,
   "metadata": {},
   "outputs": [],
   "source": [
    "#data['uriSeq2len'] = data['uriSequence2'].apply(lambda sent:calculateSentLengthUri(sent))\n",
    "data['uriSeq2len'] = data['uriSequence2'].str.replace(' wikidataentityseparation', '')\n",
    "data['uriSeq2len'] = data['uriSeq2len'].str.split().apply(lambda sent:calculateSentLength1(sent))\n",
    "#data['seq2len'] = data['sequence2'].str.split().len()"
   ]
  },
  {
   "cell_type": "code",
   "execution_count": null,
   "metadata": {},
   "outputs": [],
   "source": [
    "data.head(10)"
   ]
  },
  {
   "cell_type": "code",
   "execution_count": null,
   "metadata": {},
   "outputs": [],
   "source": [
    "data = data.drop_duplicates(subset=['sequence1'],keep='first')\n",
    "data = data.reset_index(drop=True)"
   ]
  },
  {
   "cell_type": "code",
   "execution_count": null,
   "metadata": {},
   "outputs": [],
   "source": [
    "data.to_csv('../../dataset/entityData_Sep/merged_465_entity_uri_entity_sep_google_pre_seq.csv',encoding='utf-8',index=False)"
   ]
  },
  {
   "cell_type": "code",
   "execution_count": null,
   "metadata": {},
   "outputs": [],
   "source": [
    "data = pd.read_csv('../../dataset/entityData_Sep/merged_465_entity_uri_entity_sep_google_pre_seq.csv', encoding='utf-8')\n",
    "data.info()"
   ]
  },
  {
   "cell_type": "code",
   "execution_count": null,
   "metadata": {},
   "outputs": [],
   "source": [
    "data_Analysis = data[['seq1len', 'seq2len', 'uriSeq2len']]"
   ]
  },
  {
   "cell_type": "code",
   "execution_count": null,
   "metadata": {},
   "outputs": [],
   "source": [
    "data_Analysis.describe(include='all')"
   ]
  },
  {
   "cell_type": "code",
   "execution_count": null,
   "metadata": {},
   "outputs": [],
   "source": [
    "#sentence range need to be set according to requirement\n",
    "\n",
    "#data_ranged = data[(data['seq1len']<=50) & (data['seq1len']>=10)]\n",
    "data_ranged = data[(data['seq1len']<25) & (data['seq2len']<25) & (data['uriSeq2len']<25)]\n",
    "\n",
    "data_ranged.describe()"
   ]
  },
  {
   "cell_type": "code",
   "execution_count": null,
   "metadata": {},
   "outputs": [],
   "source": [
    "data_ranged = data_ranged.reset_index(drop=True)\n",
    "data_ranged.head(20)"
   ]
  },
  {
   "cell_type": "code",
   "execution_count": null,
   "metadata": {},
   "outputs": [],
   "source": [
    "#fig, ax = plt.subplots()\n",
    "#ax.set_xlim(0,2000)\n",
    "brange = np.arange(1,50,5)\n",
    "print (brange[0:10])\n",
    "plot = data_ranged[['seq1len','seq2len']].plot.hist(bins=brange, histtype='bar', alpha=0.6)\n",
    "fig = plot.get_figure()\n",
    "fig.tight_layout()\n",
    "fig.savefig('seq1lenVsseq2len.png', dpi=120)"
   ]
  },
  {
   "cell_type": "code",
   "execution_count": null,
   "metadata": {},
   "outputs": [],
   "source": [
    "brange = np.arange(1,50,5)\n",
    "print (brange[0:10])\n",
    "plot = data_ranged[['seq1len','uriSeq2len']].plot.hist(bins=brange, histtype='bar', alpha=0.6)\n",
    "fig = plot.get_figure()\n",
    "fig.tight_layout()\n",
    "fig.savefig('seq1lenVsuriSeq2len.png', dpi=120)"
   ]
  },
  {
   "cell_type": "code",
   "execution_count": null,
   "metadata": {},
   "outputs": [],
   "source": [
    "sum(data_ranged['seq2len'] < 1)"
   ]
  },
  {
   "cell_type": "code",
   "execution_count": null,
   "metadata": {},
   "outputs": [],
   "source": [
    "data_ranged = data_ranged.reset_index(drop=True)\n",
    "data_ranged.head(5)\n",
    "data_ranged.to_csv('../../dataset/entityData_Sep/merged_465_entity_uri_entity_sep_google_pre_seq_0_25.csv',encoding='utf-8',index=False)"
   ]
  },
  {
   "cell_type": "code",
   "execution_count": null,
   "metadata": {},
   "outputs": [],
   "source": [
    "data_ranged.info()"
   ]
  },
  {
   "cell_type": "code",
   "execution_count": null,
   "metadata": {},
   "outputs": [],
   "source": [
    "#All: surfaceForm_wikiUri_wikiEntity_withnotfound\n",
    "# And 0_25 Sequence : surfaceForm_wikiUri_wikiEntity_withnotfound\n",
    "\n",
    "#!/usr/bin/env python\n",
    "# coding: utf-8\n",
    "\n",
    "# In[1]:\n",
    "#!pip3 install matplotlib\n",
    "\n",
    "from __future__ import absolute_import,unicode_literals, print_function, division\n",
    "\n",
    "import torch\n",
    "from torch.jit import script, trace\n",
    "import torch.nn as nn\n",
    "from torch import optim\n",
    "import torch.nn.functional as F\n",
    "import csv\n",
    "import random\n",
    "import re\n",
    "import os\n",
    "import unicodedata\n",
    "import codecs\n",
    "from io import open\n",
    "import itertools\n",
    "import math\n",
    "#import bcolz\n",
    "import pickle\n",
    "import pandas as pd\n",
    "import numpy as np\n",
    "import multiprocessing as mp\n",
    "import time\n",
    "import math\n",
    "#import matplotlib.pyplot as plt\n",
    "#plt.switch_backend('agg')\n",
    "#import matplotlib.ticker as ticker\n",
    "import json\n",
    "import requests\n",
    "pd.set_option('display.max_colwidth', -1)\n",
    "\n",
    "\n",
    "\n",
    "\n",
    "df = pd.read_csv('../../dataset/entityData_Sep/surfaceForm_wikiUri_sep.csv', encoding='utf-8')\n",
    "d = pd.read_csv('../../dataset/entityData/WikidataLabel_clean_noise.csv', encoding='utf-8')\n",
    "df.head()\n",
    "labelDict = dict(zip(d.qValue, d.wikidataLabel))\n",
    "\n",
    "def replaceQuri(QUri):\n",
    "    if QUri in labelDict:\n",
    "        return labelDict[QUri]\n",
    "    else:\n",
    "        return \"notfoundinthedict\"\n",
    "\n",
    "df.loc[:,'WikidataLabel'] = df.loc[:,'QUri'].apply(replaceQuri)\n",
    "#df.to_csv('../dataset/entityData_Sep/surfaceForm_wikiUri_wikiEntity_withnotfound.csv', encoding='utf-8', index=False)\n",
    "df_data = pd.read_csv('../../dataset/entityData_Sep/merged_465_entity_uri_entity_sep_google_pre_seq_0_25.csv', encoding='utf-8')\n",
    "\n",
    "uriList = []\n",
    "\n",
    "\n",
    "def createSet(urilist):\n",
    "    #print (urilist)\n",
    "    uriList.append(set(urilist))\n",
    "    return len(uriList)\n",
    "    \n",
    "df_data['uri'].str.split().apply(createSet)\n",
    "luri = [u.strip() for l in uriList for u in l]\n",
    "\n",
    "uriSet = set(luri)\n",
    "\n",
    "len(uriSet), len(luri)\n",
    "df.info(), df.head()\n",
    "\n",
    "\n",
    "df_0_25 = df[df['QUri'].isin(list(uriSet))]\n",
    "df_0_25.head(25), df.head(25)\n",
    "df_0_25.describe()\n",
    "df.describe()\n",
    "print (sum(df_0_25.duplicated(subset=['QUri'])))\n",
    "#df_0_25.to_csv('../../dataset/entityData_Sep/surfaceForm_wikiUri_wikiEntity_withnotfound_withdupQuri_0_25.csv', encoding='utf-8', index=False)\n",
    "\n",
    "\n",
    "#in 0_25 how many sruface-froms are different from WikidataEntites\n",
    "\n",
    "'''def changeLowerCase(str1):\n",
    "    return str(str1).lower()\n",
    "\n",
    "df_0_25_lower = df_0_25.applymap(changeLowerCase)\n",
    "df_0_25_lower['isEqual'] = df_0_25_lower['Surface-Form'].str.strip().replace('s/+',\"\") == df_0_25_lower['WikidataLabel'].str.strip().str.replace('s/+',\"\")\n",
    "display (df_0_25_lower.head(5))\n",
    "print ('Total Entities {}'.format(df_0_25_lower['isEqual'].count()))\n",
    "print (\"Entities which are not equal {}\".format(df_0_25_lower['isEqual'].count() - sum(df_0_25_lower['isEqual'])))\n",
    "'''\n",
    "Total Entities 733901\n",
    "Entities which are not equal 455825\n",
    "'''\n",
    "\n",
    "#Remove Quri columns for elastic search\n",
    "df_0_25_lower1 = df_0_25_lower[['Surface-Form', 'WikidataLabel']]\n",
    "df_0_25_lower1.to_csv('../../dataset/entityData_Sep/surfaceForm_wikiEntity_0_25.csv', encoding='utf-8', index=False)'''"
   ]
  },
  {
   "cell_type": "code",
   "execution_count": null,
   "metadata": {},
   "outputs": [],
   "source": [
    "def changeLowerCase(str1):\n",
    "    return str(str1).lower()\n",
    "\n",
    "df_0_25_lower = df_0_25.applymap(changeLowerCase)\n",
    "df_0_25_lower['isEqual'] = df_0_25_lower['Surface-Form'].str.strip().replace('s/+',\"\") == df_0_25_lower['WikidataLabel'].str.strip().str.replace('s/+',\"\")\n",
    "display (df_0_25_lower.head(5))\n",
    "print ('Total Entities {}'.format(df_0_25_lower['isEqual'].count()))\n",
    "print (\"Entities which are not equal {}\".format(df_0_25_lower['isEqual'].count() - sum(df_0_25_lower['isEqual'])))\n",
    "'''\n",
    "Total Entities 733901\n",
    "Entities which are not equal 455825\n",
    "'''\n",
    "\n",
    "#Remove Quri columns for elastic search\n",
    "df_0_25_lower1 = df_0_25_lower[['Surface-Form', 'WikidataLabel']]\n",
    "df_0_25_lower1.to_csv('../../dataset/entityData_Sep/surfaceForm_wikiEntity_0_25.csv', encoding='utf-8', index=False)"
   ]
  },
  {
   "cell_type": "code",
   "execution_count": null,
   "metadata": {},
   "outputs": [],
   "source": []
  },
  {
   "cell_type": "code",
   "execution_count": null,
   "metadata": {},
   "outputs": [],
   "source": [
    "#NotFoundWikidataEntites\n",
    "df = pd.read_csv('../dataset/trainingData/Nov13/formatted_seq_0_25.txt',encoding='utf-8', sep='\\t', header=None)\n",
    "df.head(10)\n",
    "df.describe()\n",
    "l = df[df.columns[3]].str.split().tolist()\n",
    "lmod = sorted(set([tmpl1.strip() for tmpl in l for tmpl1 in tmpl]))\n",
    "print (len(lmod))\n",
    "df1= pd.read_csv('../dataset/entity_uri_entity_dups.csv')\n",
    "df2= df1[df1['UriEntity']=='NotFoundinQdict']\n",
    "df2.describe()\n",
    "uriList = sorted(df2['Uri'].tolist())\n",
    "print (len(uriList), uriList[0:10])\n",
    "\n",
    "def searchNotfoundUri(uri):\n",
    "    uri = str(uri).strip().split()\n",
    "    for u in uri:\n",
    "        if u in uriList:\n",
    "            return True\n",
    "    return False\n",
    "\n",
    "df['isMatched'] = df[df.columns[3]].apply(searchNotfoundUri)\n",
    "df[df['isMatched']==True]"
   ]
  },
  {
   "cell_type": "code",
   "execution_count": 47,
   "metadata": {},
   "outputs": [
    {
     "name": "stdout",
     "output_type": "stream",
     "text": [
      "              Surface-Form    QUri             WikidataLabel\n",
      "0  Austroasiatic languages  Q33199  austro asiatic languages\n",
      "1                Mon–Khmer  Q33199  austro asiatic languages\n",
      "2          language family  Q25295           language family\n",
      "3           Southeast Asia  Q11708            southeast asia\n",
      "4                    India    Q668                     india\n"
     ]
    },
    {
     "data": {
      "text/html": [
       "<div>\n",
       "<style scoped>\n",
       "    .dataframe tbody tr th:only-of-type {\n",
       "        vertical-align: middle;\n",
       "    }\n",
       "\n",
       "    .dataframe tbody tr th {\n",
       "        vertical-align: top;\n",
       "    }\n",
       "\n",
       "    .dataframe thead th {\n",
       "        text-align: right;\n",
       "    }\n",
       "</style>\n",
       "<table border=\"1\" class=\"dataframe\">\n",
       "  <thead>\n",
       "    <tr style=\"text-align: right;\">\n",
       "      <th></th>\n",
       "      <th>Surface-Form</th>\n",
       "      <th>QUri</th>\n",
       "      <th>WikidataLabel</th>\n",
       "      <th>lenSur</th>\n",
       "      <th>lenWiki</th>\n",
       "    </tr>\n",
       "  </thead>\n",
       "  <tbody>\n",
       "    <tr>\n",
       "      <th>0</th>\n",
       "      <td>Austroasiatic languages</td>\n",
       "      <td>Q33199</td>\n",
       "      <td>austro asiatic languages</td>\n",
       "      <td>2</td>\n",
       "      <td>3</td>\n",
       "    </tr>\n",
       "    <tr>\n",
       "      <th>1</th>\n",
       "      <td>Mon–Khmer</td>\n",
       "      <td>Q33199</td>\n",
       "      <td>austro asiatic languages</td>\n",
       "      <td>1</td>\n",
       "      <td>3</td>\n",
       "    </tr>\n",
       "    <tr>\n",
       "      <th>2</th>\n",
       "      <td>language family</td>\n",
       "      <td>Q25295</td>\n",
       "      <td>language family</td>\n",
       "      <td>2</td>\n",
       "      <td>2</td>\n",
       "    </tr>\n",
       "    <tr>\n",
       "      <th>3</th>\n",
       "      <td>Southeast Asia</td>\n",
       "      <td>Q11708</td>\n",
       "      <td>southeast asia</td>\n",
       "      <td>2</td>\n",
       "      <td>2</td>\n",
       "    </tr>\n",
       "    <tr>\n",
       "      <th>4</th>\n",
       "      <td>India</td>\n",
       "      <td>Q668</td>\n",
       "      <td>india</td>\n",
       "      <td>1</td>\n",
       "      <td>1</td>\n",
       "    </tr>\n",
       "  </tbody>\n",
       "</table>\n",
       "</div>"
      ],
      "text/plain": [
       "              Surface-Form    QUri             WikidataLabel  lenSur  lenWiki\n",
       "0  Austroasiatic languages  Q33199  austro asiatic languages       2        3\n",
       "1                Mon–Khmer  Q33199  austro asiatic languages       1        3\n",
       "2          language family  Q25295           language family       2        2\n",
       "3           Southeast Asia  Q11708            southeast asia       2        2\n",
       "4                    India    Q668                     india       1        1"
      ]
     },
     "execution_count": 47,
     "metadata": {},
     "output_type": "execute_result"
    }
   ],
   "source": [
    "# Length Describe\n",
    "import pandas as pd\n",
    "df = pd.read_csv('../../dataset/entityData_Sep/surfaceForm_wikiUri_wikiEntity_withnotfound_withdupQuri_0_25.csv', encoding='utf-8')\n",
    "df = df.dropna()\n",
    "\n",
    "print (df.head(5))\n",
    "def lengthofSequence(seq):\n",
    "    return len(str(seq.encode('utf-8')).split())\n",
    "\n",
    "df['lenSur'] = df['Surface-Form'].apply(lengthofSequence)\n",
    "df['lenWiki'] = df['WikidataLabel'].apply(lengthofSequence)\n",
    "\n",
    "#df['lenWiki'] = df['wikiAltLabel'].apply(lengthofSequence)\n",
    "\n",
    "\n",
    "df.head(5)\n",
    "#df.sort_values(by=['len'], axis=0, ascending=False)\n",
    "\n"
   ]
  },
  {
   "cell_type": "code",
   "execution_count": 48,
   "metadata": {},
   "outputs": [
    {
     "name": "stdout",
     "output_type": "stream",
     "text": [
      "[ 1  6 11 16 21 26 31 36 41 46]\n"
     ]
    },
    {
     "data": {
      "text/html": [
       "<div>\n",
       "<style scoped>\n",
       "    .dataframe tbody tr th:only-of-type {\n",
       "        vertical-align: middle;\n",
       "    }\n",
       "\n",
       "    .dataframe tbody tr th {\n",
       "        vertical-align: top;\n",
       "    }\n",
       "\n",
       "    .dataframe thead th {\n",
       "        text-align: right;\n",
       "    }\n",
       "</style>\n",
       "<table border=\"1\" class=\"dataframe\">\n",
       "  <thead>\n",
       "    <tr style=\"text-align: right;\">\n",
       "      <th></th>\n",
       "      <th>lenSur</th>\n",
       "      <th>lenWiki</th>\n",
       "    </tr>\n",
       "  </thead>\n",
       "  <tbody>\n",
       "    <tr>\n",
       "      <th>count</th>\n",
       "      <td>732601.000000</td>\n",
       "      <td>732601.000000</td>\n",
       "    </tr>\n",
       "    <tr>\n",
       "      <th>mean</th>\n",
       "      <td>1.932808</td>\n",
       "      <td>2.210617</td>\n",
       "    </tr>\n",
       "    <tr>\n",
       "      <th>std</th>\n",
       "      <td>0.877253</td>\n",
       "      <td>1.137085</td>\n",
       "    </tr>\n",
       "    <tr>\n",
       "      <th>min</th>\n",
       "      <td>1.000000</td>\n",
       "      <td>1.000000</td>\n",
       "    </tr>\n",
       "    <tr>\n",
       "      <th>25%</th>\n",
       "      <td>1.000000</td>\n",
       "      <td>1.000000</td>\n",
       "    </tr>\n",
       "    <tr>\n",
       "      <th>50%</th>\n",
       "      <td>2.000000</td>\n",
       "      <td>2.000000</td>\n",
       "    </tr>\n",
       "    <tr>\n",
       "      <th>75%</th>\n",
       "      <td>2.000000</td>\n",
       "      <td>3.000000</td>\n",
       "    </tr>\n",
       "    <tr>\n",
       "      <th>max</th>\n",
       "      <td>7.000000</td>\n",
       "      <td>19.000000</td>\n",
       "    </tr>\n",
       "  </tbody>\n",
       "</table>\n",
       "</div>"
      ],
      "text/plain": [
       "              lenSur        lenWiki\n",
       "count  732601.000000  732601.000000\n",
       "mean        1.932808       2.210617\n",
       "std         0.877253       1.137085\n",
       "min         1.000000       1.000000\n",
       "25%         1.000000       1.000000\n",
       "50%         2.000000       2.000000\n",
       "75%         2.000000       3.000000\n",
       "max         7.000000      19.000000"
      ]
     },
     "execution_count": 48,
     "metadata": {},
     "output_type": "execute_result"
    },
    {
     "data": {
      "image/png": "[encoded data removed]",
      "text/plain": [
       "<Figure size 432x288 with 1 Axes>"
      ]
     },
     "metadata": {
      "needs_background": "light"
     },
     "output_type": "display_data"
    }
   ],
   "source": [
    "import numpy as np\n",
    "brange = np.arange(1,70,5)\n",
    "print (brange[0:10])\n",
    "plot = df[['lenWiki']].plot.hist(bins=brange, histtype='bar', alpha=0.6)\n",
    "fig = plot.get_figure()\n",
    "fig.tight_layout()\n",
    "#fig.savefig('wikialtLabellen.png', dpi=120)\n",
    "\n",
    "df[['lenSur','lenWiki']].describe()"
   ]
  },
  {
   "cell_type": "code",
   "execution_count": null,
   "metadata": {},
   "outputs": [],
   "source": []
  },
  {
   "cell_type": "code",
   "execution_count": null,
   "metadata": {},
   "outputs": [],
   "source": []
  },
  {
   "cell_type": "code",
   "execution_count": null,
   "metadata": {},
   "outputs": [],
   "source": []
  },
  {
   "cell_type": "code",
   "execution_count": null,
   "metadata": {},
   "outputs": [],
   "source": []
  },
  {
   "cell_type": "code",
   "execution_count": null,
   "metadata": {},
   "outputs": [],
   "source": []
  }
 ],
 "metadata": {
  "kernelspec": {
   "display_name": "Python 3",
   "language": "python",
   "name": "python3"
  },
  "language_info": {
   "codemirror_mode": {
    "name": "ipython",
    "version": 2
   },
   "file_extension": ".py",
   "mimetype": "text/x-python",
   "name": "python",
   "nbconvert_exporter": "python",
   "pygments_lexer": "ipython2",
   "version": "2.7.12"
  }
 },
 "nbformat": 4,
 "nbformat_minor": 2
}
